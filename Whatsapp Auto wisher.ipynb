{
 "cells": [
  {
   "cell_type": "markdown",
   "id": "f8be92f8",
   "metadata": {},
   "source": [
    "# Whatsapp Auto wisher\n",
    "By: Kalki R"
   ]
  },
  {
   "cell_type": "code",
   "execution_count": null,
   "id": "4d9f40bd",
   "metadata": {},
   "outputs": [],
   "source": [
    "import pywhatkit\n",
    "pywhatkit.sendwhatmsg('+91 9585964283','Advance Happy Bornday Dear:)',10,45)"
   ]
  },
  {
   "cell_type": "code",
   "execution_count": null,
   "id": "1908f677",
   "metadata": {},
   "outputs": [],
   "source": []
  }
 ],
 "metadata": {
  "kernelspec": {
   "display_name": "Python 3",
   "language": "python",
   "name": "python3"
  },
  "language_info": {
   "codemirror_mode": {
    "name": "ipython",
    "version": 3
   },
   "file_extension": ".py",
   "mimetype": "text/x-python",
   "name": "python",
   "nbconvert_exporter": "python",
   "pygments_lexer": "ipython3",
   "version": "3.8.8"
  }
 },
 "nbformat": 4,
 "nbformat_minor": 5
}
